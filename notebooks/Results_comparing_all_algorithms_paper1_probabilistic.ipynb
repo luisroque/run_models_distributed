{
 "cells": [
  {
   "cell_type": "code",
   "execution_count": 1,
   "id": "cc5f6bbb-bcd9-4100-a503-3efdda029328",
   "metadata": {},
   "outputs": [
    {
     "name": "stderr",
     "output_type": "stream",
     "text": [
      "<ipython-input-1-ca8d91b5fe10>:3: DeprecationWarning: Using or importing the ABCs from 'collections' instead of from 'collections.abc' is deprecated since Python 3.3, and in 3.10 it will stop working\n",
      "  from collections import Iterable\n"
     ]
    }
   ],
   "source": [
    "import pickle\n",
    "import os\n",
    "from collections import Iterable\n",
    "import pandas as pd\n",
    "import matplotlib.pyplot as plt\n",
    "import numpy as np\n",
    "import seaborn as sns\n",
    "import copy\n",
    "\n",
    "sns.set()\n",
    "plt.rcParams.update({'font.size': 22})"
   ]
  },
  {
   "cell_type": "code",
   "execution_count": 2,
   "id": "a0124e9d-256f-4cf1-9b92-9c2e15e9096b",
   "metadata": {},
   "outputs": [],
   "source": [
    "def flatten(lis):\n",
    "     for item in lis:\n",
    "        if isinstance(item, Iterable) and not isinstance(item, str):\n",
    "            for x in flatten(item):\n",
    "                yield x\n",
    "        else:        \n",
    "            yield item\n",
    "            \n",
    "def find(lst, s):\n",
    "    return [i for i, x in enumerate(lst) if x==s]\n",
    "\n",
    "def keys_exists(element, *keys):\n",
    "    '''\n",
    "    Check if *keys (nested) exists in `element` (dict).\n",
    "    '''\n",
    "    if not isinstance(element, dict):\n",
    "        raise AttributeError('keys_exists() expects dict as first argument.')\n",
    "    if len(keys) == 0:\n",
    "        raise AttributeError('keys_exists() expects at least two arguments, one given.')\n",
    "\n",
    "    _element = element\n",
    "    for key in keys:\n",
    "        try:\n",
    "            _element = _element[key]\n",
    "        except KeyError:\n",
    "            return False\n",
    "    return True"
   ]
  },
  {
   "cell_type": "code",
   "execution_count": 23,
   "id": "a474eed6-6e48-4ee6-bce0-411cb010d9ce",
   "metadata": {},
   "outputs": [],
   "source": [
    "def parse_file_name(file, dataset):\n",
    "    flatten_file_name = list(flatten([i.split('.') for i in file.split('_')]))\n",
    "    idx_dataset_name = find(flatten_file_name, dataset)[0]\n",
    "    sample = flatten_file_name[idx_dataset_name+1:-1][-1]\n",
    "    version = flatten_file_name[idx_dataset_name+1:-1][-2]\n",
    "    transformation = '_'.join(flatten_file_name[idx_dataset_name+1:-1][:-2])\n",
    "    return sample, version, transformation\n",
    "\n",
    "def compute_aggreated_results_dict(algorithm, dataset, path='../results_probabilistic', err_metric='mase'):\n",
    "    results_dict={}\n",
    "    for file in [path for path in os.listdir(path) if algorithm in path and dataset in path and 'orig' in path]:\n",
    "        with open(f'{path}/{file}', 'rb') as handle:\n",
    "            sample, version, transformation = parse_file_name(file, dataset)\n",
    "            if not keys_exists(results_dict, transformation):\n",
    "                results_dict[transformation] = {}\n",
    "            if not keys_exists(results_dict, transformation, version): \n",
    "                results_dict[transformation][version] = {}\n",
    "            if not keys_exists(results_dict, transformation, version, sample):    \n",
    "                results_dict[transformation][version][sample] = {}\n",
    "                \n",
    "            results_dict_temp = copy.deepcopy(results_dict)\n",
    "            results_dict_temp[transformation][version][sample] = pickle.load(handle)\n",
    "\n",
    "            results_dict[transformation][version][sample][err_metric] = {}\n",
    "\n",
    "            # We are getting the results for each group as lists and we want to store it \n",
    "            # as objects such as {'mase': {bottom_ind_1: value}, {bottom_ind_2: value}}\n",
    "            for (k,v_) in results_dict_temp[transformation][version][sample][err_metric].items():\n",
    "                # if it is the original versions we only want to get the individual results\n",
    "                try: \n",
    "                    for i in range(len(v_)):\n",
    "                        results_dict[transformation][version][sample][err_metric][f'{k}_{i}'] = v_[i]\n",
    "                except TypeError:\n",
    "                    # the group has individual results\n",
    "                    pass\n",
    "        handle.close()\n",
    "    return results_dict"
   ]
  },
  {
   "cell_type": "code",
   "execution_count": 35,
   "id": "548a52f4-c26c-4c04-adf3-c801d5edf5f0",
   "metadata": {},
   "outputs": [],
   "source": [
    "def compute_aggregated_results_df(results_dict):\n",
    "    # shape=(transformation, version, sample, metric, dim)\n",
    "    # metric = mase, rmse\n",
    "    # dim = bottom, total, state, gender, legal, all\n",
    "    \n",
    "    df = pd.DataFrame.from_dict({(i, j, k, l): results_dict[i][j][k][l]\n",
    "                           for i in results_dict.keys() \n",
    "                           for j in results_dict[i].keys()\n",
    "                           for k in results_dict[i][j].keys()\n",
    "                           for l in results_dict[i][j][k].keys()}, orient='index')\n",
    "    df = df.reset_index()\n",
    "    df.rename(columns={'level_0':'transformation',\n",
    "                       'level_1':'version',\n",
    "                       'level_2':'sample',\n",
    "                       'level_3':'error',}, inplace=True)\n",
    "    df = df.melt(id_vars=['transformation', 'version', 'sample', 'error'],\n",
    "           var_name = 'group',\n",
    "           value_name = 'value')\n",
    "    print(df)\n",
    "    df = df.groupby(['group', 'version', 'sample', 'error']).mean().reset_index()\n",
    "    df['group'] = df['group'].str.split('_').str[0]\n",
    "    df.dropna(inplace=True)\n",
    "    \n",
    "    return df"
   ]
  },
  {
   "cell_type": "code",
   "execution_count": 36,
   "id": "05a3cb34-dd71-4561-9d13-fd982ea2ea1e",
   "metadata": {},
   "outputs": [],
   "source": [
    "dict_gpf = compute_aggreated_results_dict(algorithm='gpf', dataset='m5', err_metric='CRPS')"
   ]
  },
  {
   "cell_type": "code",
   "execution_count": 37,
   "id": "600b6c70-55a8-4dc8-a811-3caf48534424",
   "metadata": {},
   "outputs": [
    {
     "name": "stdout",
     "output_type": "stream",
     "text": [
      "     transformation version sample error         group                 value\n",
      "0     gpf_time_warp    orig     s0  CRPS  bottom_ind_0             19.160172\n",
      "1     gpf_time_warp    orig     s0  CRPS  bottom_ind_1             16.587927\n",
      "2     gpf_time_warp    orig     s0  CRPS  bottom_ind_2             16.967994\n",
      "3     gpf_time_warp    orig     s0  CRPS  bottom_ind_3             23.953128\n",
      "4     gpf_time_warp    orig     s0  CRPS  bottom_ind_4             18.361268\n",
      "...             ...     ...    ...   ...           ...                   ...\n",
      "1359  gpf_time_warp    orig     s0  CRPS   all_ind_677  [44.358953165418136]\n",
      "1360  gpf_time_warp    orig     s0  CRPS   all_ind_678  [20.375122694672083]\n",
      "1361  gpf_time_warp    orig     s0  CRPS   all_ind_679  [23.282681644810065]\n",
      "1362  gpf_time_warp    orig     s0  CRPS   all_ind_680  [25.589589280847516]\n",
      "1363  gpf_time_warp    orig     s0  CRPS   all_ind_681   [8210.826461236577]\n",
      "\n",
      "[1364 rows x 6 columns]\n"
     ]
    },
    {
     "ename": "DataError",
     "evalue": "No numeric types to aggregate",
     "output_type": "error",
     "traceback": [
      "\u001b[0;31m---------------------------------------------------------------------------\u001b[0m",
      "\u001b[0;31mDataError\u001b[0m                                 Traceback (most recent call last)",
      "\u001b[0;32m<ipython-input-37-8a891c4a495e>\u001b[0m in \u001b[0;36m<module>\u001b[0;34m\u001b[0m\n\u001b[0;32m----> 1\u001b[0;31m \u001b[0mdf_gpf\u001b[0m \u001b[0;34m=\u001b[0m \u001b[0mcompute_aggregated_results_df\u001b[0m\u001b[0;34m(\u001b[0m\u001b[0mdict_gpf\u001b[0m\u001b[0;34m)\u001b[0m\u001b[0;34m\u001b[0m\u001b[0;34m\u001b[0m\u001b[0m\n\u001b[0m",
      "\u001b[0;32m<ipython-input-35-7581a3722be5>\u001b[0m in \u001b[0;36mcompute_aggregated_results_df\u001b[0;34m(results_dict)\u001b[0m\n\u001b[1;32m     18\u001b[0m            value_name = 'value')\n\u001b[1;32m     19\u001b[0m     \u001b[0mprint\u001b[0m\u001b[0;34m(\u001b[0m\u001b[0mdf\u001b[0m\u001b[0;34m)\u001b[0m\u001b[0;34m\u001b[0m\u001b[0;34m\u001b[0m\u001b[0m\n\u001b[0;32m---> 20\u001b[0;31m     \u001b[0mdf\u001b[0m \u001b[0;34m=\u001b[0m \u001b[0mdf\u001b[0m\u001b[0;34m.\u001b[0m\u001b[0mgroupby\u001b[0m\u001b[0;34m(\u001b[0m\u001b[0;34m[\u001b[0m\u001b[0;34m'group'\u001b[0m\u001b[0;34m,\u001b[0m \u001b[0;34m'version'\u001b[0m\u001b[0;34m,\u001b[0m \u001b[0;34m'sample'\u001b[0m\u001b[0;34m,\u001b[0m \u001b[0;34m'error'\u001b[0m\u001b[0;34m]\u001b[0m\u001b[0;34m)\u001b[0m\u001b[0;34m.\u001b[0m\u001b[0mmean\u001b[0m\u001b[0;34m(\u001b[0m\u001b[0;34m)\u001b[0m\u001b[0;34m.\u001b[0m\u001b[0mreset_index\u001b[0m\u001b[0;34m(\u001b[0m\u001b[0;34m)\u001b[0m\u001b[0;34m\u001b[0m\u001b[0;34m\u001b[0m\u001b[0m\n\u001b[0m\u001b[1;32m     21\u001b[0m     \u001b[0mdf\u001b[0m\u001b[0;34m[\u001b[0m\u001b[0;34m'group'\u001b[0m\u001b[0;34m]\u001b[0m \u001b[0;34m=\u001b[0m \u001b[0mdf\u001b[0m\u001b[0;34m[\u001b[0m\u001b[0;34m'group'\u001b[0m\u001b[0;34m]\u001b[0m\u001b[0;34m.\u001b[0m\u001b[0mstr\u001b[0m\u001b[0;34m.\u001b[0m\u001b[0msplit\u001b[0m\u001b[0;34m(\u001b[0m\u001b[0;34m'_'\u001b[0m\u001b[0;34m)\u001b[0m\u001b[0;34m.\u001b[0m\u001b[0mstr\u001b[0m\u001b[0;34m[\u001b[0m\u001b[0;36m0\u001b[0m\u001b[0;34m]\u001b[0m\u001b[0;34m\u001b[0m\u001b[0;34m\u001b[0m\u001b[0m\n\u001b[1;32m     22\u001b[0m     \u001b[0mdf\u001b[0m\u001b[0;34m.\u001b[0m\u001b[0mdropna\u001b[0m\u001b[0;34m(\u001b[0m\u001b[0minplace\u001b[0m\u001b[0;34m=\u001b[0m\u001b[0;32mTrue\u001b[0m\u001b[0;34m)\u001b[0m\u001b[0;34m\u001b[0m\u001b[0;34m\u001b[0m\u001b[0m\n",
      "\u001b[0;32m~/anaconda3/envs/run_models/lib/python3.9/site-packages/pandas/core/groupby/groupby.py\u001b[0m in \u001b[0;36mmean\u001b[0;34m(self, numeric_only)\u001b[0m\n\u001b[1;32m   1494\u001b[0m         \u001b[0mName\u001b[0m\u001b[0;34m:\u001b[0m \u001b[0mB\u001b[0m\u001b[0;34m,\u001b[0m \u001b[0mdtype\u001b[0m\u001b[0;34m:\u001b[0m \u001b[0mfloat64\u001b[0m\u001b[0;34m\u001b[0m\u001b[0;34m\u001b[0m\u001b[0m\n\u001b[1;32m   1495\u001b[0m         \"\"\"\n\u001b[0;32m-> 1496\u001b[0;31m         return self._cython_agg_general(\n\u001b[0m\u001b[1;32m   1497\u001b[0m             \u001b[0;34m\"mean\"\u001b[0m\u001b[0;34m,\u001b[0m\u001b[0;34m\u001b[0m\u001b[0;34m\u001b[0m\u001b[0m\n\u001b[1;32m   1498\u001b[0m             \u001b[0malt\u001b[0m\u001b[0;34m=\u001b[0m\u001b[0;32mlambda\u001b[0m \u001b[0mx\u001b[0m\u001b[0;34m,\u001b[0m \u001b[0maxis\u001b[0m\u001b[0;34m:\u001b[0m \u001b[0mSeries\u001b[0m\u001b[0;34m(\u001b[0m\u001b[0mx\u001b[0m\u001b[0;34m)\u001b[0m\u001b[0;34m.\u001b[0m\u001b[0mmean\u001b[0m\u001b[0;34m(\u001b[0m\u001b[0mnumeric_only\u001b[0m\u001b[0;34m=\u001b[0m\u001b[0mnumeric_only\u001b[0m\u001b[0;34m)\u001b[0m\u001b[0;34m,\u001b[0m\u001b[0;34m\u001b[0m\u001b[0;34m\u001b[0m\u001b[0m\n",
      "\u001b[0;32m~/anaconda3/envs/run_models/lib/python3.9/site-packages/pandas/core/groupby/generic.py\u001b[0m in \u001b[0;36m_cython_agg_general\u001b[0;34m(self, how, alt, numeric_only, min_count)\u001b[0m\n\u001b[1;32m   1013\u001b[0m         \u001b[0mself\u001b[0m\u001b[0;34m,\u001b[0m \u001b[0mhow\u001b[0m\u001b[0;34m:\u001b[0m \u001b[0mstr\u001b[0m\u001b[0;34m,\u001b[0m \u001b[0malt\u001b[0m\u001b[0;34m=\u001b[0m\u001b[0;32mNone\u001b[0m\u001b[0;34m,\u001b[0m \u001b[0mnumeric_only\u001b[0m\u001b[0;34m:\u001b[0m \u001b[0mbool\u001b[0m \u001b[0;34m=\u001b[0m \u001b[0;32mTrue\u001b[0m\u001b[0;34m,\u001b[0m \u001b[0mmin_count\u001b[0m\u001b[0;34m:\u001b[0m \u001b[0mint\u001b[0m \u001b[0;34m=\u001b[0m \u001b[0;34m-\u001b[0m\u001b[0;36m1\u001b[0m\u001b[0;34m\u001b[0m\u001b[0;34m\u001b[0m\u001b[0m\n\u001b[1;32m   1014\u001b[0m     ) -> DataFrame:\n\u001b[0;32m-> 1015\u001b[0;31m         agg_mgr = self._cython_agg_blocks(\n\u001b[0m\u001b[1;32m   1016\u001b[0m             \u001b[0mhow\u001b[0m\u001b[0;34m,\u001b[0m \u001b[0malt\u001b[0m\u001b[0;34m=\u001b[0m\u001b[0malt\u001b[0m\u001b[0;34m,\u001b[0m \u001b[0mnumeric_only\u001b[0m\u001b[0;34m=\u001b[0m\u001b[0mnumeric_only\u001b[0m\u001b[0;34m,\u001b[0m \u001b[0mmin_count\u001b[0m\u001b[0;34m=\u001b[0m\u001b[0mmin_count\u001b[0m\u001b[0;34m\u001b[0m\u001b[0;34m\u001b[0m\u001b[0m\n\u001b[1;32m   1017\u001b[0m         )\n",
      "\u001b[0;32m~/anaconda3/envs/run_models/lib/python3.9/site-packages/pandas/core/groupby/generic.py\u001b[0m in \u001b[0;36m_cython_agg_blocks\u001b[0;34m(self, how, alt, numeric_only, min_count)\u001b[0m\n\u001b[1;32m   1119\u001b[0m \u001b[0;34m\u001b[0m\u001b[0m\n\u001b[1;32m   1120\u001b[0m         \u001b[0;32mif\u001b[0m \u001b[0;32mnot\u001b[0m \u001b[0mlen\u001b[0m\u001b[0;34m(\u001b[0m\u001b[0mnew_mgr\u001b[0m\u001b[0;34m)\u001b[0m\u001b[0;34m:\u001b[0m\u001b[0;34m\u001b[0m\u001b[0;34m\u001b[0m\u001b[0m\n\u001b[0;32m-> 1121\u001b[0;31m             \u001b[0;32mraise\u001b[0m \u001b[0mDataError\u001b[0m\u001b[0;34m(\u001b[0m\u001b[0;34m\"No numeric types to aggregate\"\u001b[0m\u001b[0;34m)\u001b[0m\u001b[0;34m\u001b[0m\u001b[0;34m\u001b[0m\u001b[0m\n\u001b[0m\u001b[1;32m   1122\u001b[0m \u001b[0;34m\u001b[0m\u001b[0m\n\u001b[1;32m   1123\u001b[0m         \u001b[0;32mreturn\u001b[0m \u001b[0mnew_mgr\u001b[0m\u001b[0;34m\u001b[0m\u001b[0;34m\u001b[0m\u001b[0m\n",
      "\u001b[0;31mDataError\u001b[0m: No numeric types to aggregate"
     ]
    }
   ],
   "source": [
    "df_gpf = compute_aggregated_results_df(dict_gpf)"
   ]
  },
  {
   "cell_type": "code",
   "execution_count": 14,
   "id": "2127654c-47dc-48da-8835-04e0e7ce47bb",
   "metadata": {},
   "outputs": [
    {
     "data": {
      "text/html": [
       "<div>\n",
       "<style scoped>\n",
       "    .dataframe tbody tr th:only-of-type {\n",
       "        vertical-align: middle;\n",
       "    }\n",
       "\n",
       "    .dataframe tbody tr th {\n",
       "        vertical-align: top;\n",
       "    }\n",
       "\n",
       "    .dataframe thead th {\n",
       "        text-align: right;\n",
       "    }\n",
       "</style>\n",
       "<table border=\"1\" class=\"dataframe\">\n",
       "  <thead>\n",
       "    <tr style=\"text-align: right;\">\n",
       "      <th></th>\n",
       "      <th>group</th>\n",
       "      <th>version</th>\n",
       "      <th>sample</th>\n",
       "      <th>error</th>\n",
       "      <th>value</th>\n",
       "    </tr>\n",
       "  </thead>\n",
       "  <tbody>\n",
       "  </tbody>\n",
       "</table>\n",
       "</div>"
      ],
      "text/plain": [
       "Empty DataFrame\n",
       "Columns: [group, version, sample, error, value]\n",
       "Index: []"
      ]
     },
     "execution_count": 14,
     "metadata": {},
     "output_type": "execute_result"
    }
   ],
   "source": [
    "df_gpf[(df_gpf['version']=='orig')&(df_gpf['error']=='CRPS')].reset_index().drop(['index'], axis=1)"
   ]
  },
  {
   "cell_type": "code",
   "execution_count": 8,
   "id": "c4c14879-ed22-4896-8af4-262fa0c8b0ed",
   "metadata": {},
   "outputs": [
    {
     "ename": "AttributeError",
     "evalue": "'AxesSubplot' object has no attribute 'ravel'",
     "output_type": "error",
     "traceback": [
      "\u001b[0;31m---------------------------------------------------------------------------\u001b[0m",
      "\u001b[0;31mAttributeError\u001b[0m                            Traceback (most recent call last)",
      "\u001b[0;32m<ipython-input-8-2c0cb83d3d6e>\u001b[0m in \u001b[0;36m<module>\u001b[0;34m\u001b[0m\n\u001b[1;32m     22\u001b[0m \u001b[0;34m\u001b[0m\u001b[0m\n\u001b[1;32m     23\u001b[0m \u001b[0m_\u001b[0m\u001b[0;34m,\u001b[0m \u001b[0max\u001b[0m \u001b[0;34m=\u001b[0m \u001b[0mplt\u001b[0m\u001b[0;34m.\u001b[0m\u001b[0msubplots\u001b[0m\u001b[0;34m(\u001b[0m\u001b[0mlen\u001b[0m\u001b[0;34m(\u001b[0m\u001b[0mdatasets\u001b[0m\u001b[0;34m)\u001b[0m\u001b[0;34m,\u001b[0m \u001b[0;36m1\u001b[0m\u001b[0;34m,\u001b[0m \u001b[0mfigsize\u001b[0m\u001b[0;34m=\u001b[0m\u001b[0;34m(\u001b[0m\u001b[0;36m20\u001b[0m\u001b[0;34m,\u001b[0m \u001b[0;36m10\u001b[0m\u001b[0;34m*\u001b[0m\u001b[0mlen\u001b[0m\u001b[0;34m(\u001b[0m\u001b[0mdatasets\u001b[0m\u001b[0;34m)\u001b[0m\u001b[0;34m)\u001b[0m\u001b[0;34m)\u001b[0m\u001b[0;34m\u001b[0m\u001b[0;34m\u001b[0m\u001b[0m\n\u001b[0;32m---> 24\u001b[0;31m \u001b[0max\u001b[0m \u001b[0;34m=\u001b[0m \u001b[0max\u001b[0m\u001b[0;34m.\u001b[0m\u001b[0mravel\u001b[0m\u001b[0;34m(\u001b[0m\u001b[0;34m)\u001b[0m\u001b[0;34m\u001b[0m\u001b[0;34m\u001b[0m\u001b[0m\n\u001b[0m\u001b[1;32m     25\u001b[0m \u001b[0;32mfor\u001b[0m \u001b[0mi\u001b[0m \u001b[0;32min\u001b[0m \u001b[0mrange\u001b[0m\u001b[0;34m(\u001b[0m\u001b[0mlen\u001b[0m\u001b[0;34m(\u001b[0m\u001b[0mdatasets\u001b[0m\u001b[0;34m)\u001b[0m\u001b[0;34m)\u001b[0m\u001b[0;34m:\u001b[0m\u001b[0;34m\u001b[0m\u001b[0;34m\u001b[0m\u001b[0m\n\u001b[1;32m     26\u001b[0m     fg = sns.barplot(x='group', \n",
      "\u001b[0;31mAttributeError\u001b[0m: 'AxesSubplot' object has no attribute 'ravel'"
     ]
    },
    {
     "data": {
      "image/png": "[encoded data removed]",
      "text/plain": [
       "<Figure size 1440x720 with 1 Axes>"
      ]
     },
     "metadata": {},
     "output_type": "display_data"
    }
   ],
   "source": [
    "datasets = ['m5']\n",
    "df_orig_list = []\n",
    "for d in datasets:\n",
    "    dict_gpf = compute_aggreated_results_dict(algorithm='gpf', dataset=d)\n",
    "    df_gpf = compute_aggregated_results_df(dict_gpf)\n",
    "    dict_mint = compute_aggreated_results_dict(algorithm='mint', dataset=d)\n",
    "    df_mint = compute_aggregated_results_df(dict_mint)\n",
    "    dict_deepar = compute_aggreated_results_dict(algorithm='deepar', dataset=d)\n",
    "    df_deepar = compute_aggregated_results_df(dict_deepar)\n",
    "    df_gpf['algorithm']='gpf'\n",
    "    df_mint['algorithm']='mint'\n",
    "    df_deepar['algorithm']='deepar'\n",
    "    df = pd.concat([df_gpf, df_mint, df_deepar])\n",
    "    df_orig = df[(df['version']=='orig')&(df['error']=='CRPS')].reset_index().drop(['index'], axis=1)\n",
    "\n",
    "    # sort values by algorithm to plot gpf -> mint -> deepar\n",
    "    sorter = ['gpf', 'mint', 'deepar']\n",
    "    df_orig = df_orig.sort_values(by='group')\n",
    "    df_orig.algorithm = df_orig.algorithm.astype(\"category\")\n",
    "    df_orig.algorithm.cat.set_categories(sorter, inplace=True)\n",
    "    df_orig_list.append(df_orig)\n",
    "\n",
    "_, ax = plt.subplots(len(datasets), 1, figsize=(20, 10*len(datasets)))\n",
    "ax = ax.ravel()\n",
    "for i in range(len(datasets)):\n",
    "    fg = sns.barplot(x='group', \n",
    "                      y='value',\n",
    "                      hue='algorithm',\n",
    "                      data=df_orig_list[i],\n",
    "                      ax=ax[i])\n",
    "    ax[i].set_title(datasets[i], fontsize=20)\n",
    "plt.legend()\n",
    "plt.show()"
   ]
  },
  {
   "cell_type": "code",
   "execution_count": null,
   "id": "ee2096f4-d9b0-46b2-9832-858206ec0d37",
   "metadata": {},
   "outputs": [],
   "source": []
  }
 ],
 "metadata": {
  "kernelspec": {
   "display_name": "Python 3 (ipykernel)",
   "language": "python",
   "name": "python3"
  },
  "language_info": {
   "codemirror_mode": {
    "name": "ipython",
    "version": 3
   },
   "file_extension": ".py",
   "mimetype": "text/x-python",
   "name": "python",
   "nbconvert_exporter": "python",
   "pygments_lexer": "ipython3",
   "version": "3.9.7"
  }
 },
 "nbformat": 4,
 "nbformat_minor": 5
}
