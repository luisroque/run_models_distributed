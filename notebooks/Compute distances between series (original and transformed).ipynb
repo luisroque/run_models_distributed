{
 "cells": [
  {
   "cell_type": "code",
   "execution_count": null,
   "id": "01c4bf0c",
   "metadata": {},
   "outputs": [],
   "source": [
    "import numpy as np\n",
    "from tsaugmentation.transformations.compute_similarities import ComputeSimilarities\n",
    "from tsaugmentation.transformations.similarity_model import SimilarityModel\n",
    "import pandas as pd\n",
    "import seaborn as sns\n",
    "import matplotlib.pyplot as plt\n",
    "\n",
    "sns.set()\n",
    "plt.rcParams.update({'font.size': 22})"
   ]
  },
  {
   "cell_type": "code",
   "execution_count": null,
   "id": "3da19909",
   "metadata": {},
   "outputs": [],
   "source": [
    "versions = 6\n",
    "transformations = ['jitter', 'scaling', 'magnitude_warp', 'time_warp']"
   ]
  },
  {
   "cell_type": "code",
   "execution_count": null,
   "id": "212ee5e1",
   "metadata": {},
   "outputs": [],
   "source": [
    "orig = np.load('../data/transformed_datasets/tourism_original.npy')\n",
    "transf = []\n",
    "for t in transformations:\n",
    "    transf_ = []\n",
    "    for v in range(1, versions+1):\n",
    "        transf_.append(np.load(f'../data/transformed_datasets/tourism_version_{v}_10samples_single_transf_{t}.npy'))\n",
    "    transf.append(transf_)"
   ]
  },
  {
   "cell_type": "code",
   "execution_count": null,
   "id": "ce8dd892",
   "metadata": {},
   "outputs": [],
   "source": [
    "transf = np.array(transf)"
   ]
  },
  {
   "cell_type": "code",
   "execution_count": null,
   "id": "0dbf0383",
   "metadata": {},
   "outputs": [],
   "source": [
    "# Compute distance between original version and transformed version\n",
    "avg_sim_base_transf = []\n",
    "for t in range(len(transformations)):\n",
    "    avg_transf = []\n",
    "    for v in range(versions):\n",
    "        avg_sample = []\n",
    "        for s in range(transf[t][v].shape[0]):\n",
    "            avg_sample.append(ComputeSimilarities(dataset=orig, transf_dataset=transf[t][v][s]) \\\n",
    "                .compute_mean_similarity_elementwise())\n",
    "        avg_transf.append(avg_sample)\n",
    "    avg_sim_base_transf.append(avg_transf)"
   ]
  },
  {
   "cell_type": "code",
   "execution_count": null,
   "id": "7bbea6a7",
   "metadata": {},
   "outputs": [],
   "source": [
    "df_ = np.array(avg_sim_base_transf)"
   ]
  },
  {
   "cell_type": "code",
   "execution_count": null,
   "id": "e3ea525a",
   "metadata": {},
   "outputs": [],
   "source": [
    "transformation = np.array(transformations)\n",
    "version = np.array(np.arange(versions))\n",
    "sample = np.array(np.arange(10))\n",
    "cols = pd.MultiIndex.from_product([transformation, version, sample])\n",
    "df = pd.DataFrame(df_.reshape(1, -1), columns=cols).melt(var_name=['transformation', 'version', 'sample'])"
   ]
  },
  {
   "cell_type": "code",
   "execution_count": null,
   "id": "050c8eb5",
   "metadata": {},
   "outputs": [],
   "source": [
    "_, ax = plt.subplots(1, 1, figsize=(20, 10))\n",
    "\n",
    "fg = sns.lineplot(x='version', \n",
    "                  y='value',\n",
    "                  hue='transformation',\n",
    "                  data=df, \n",
    "                  ax=ax)    \n",
    "plt.legend()\n",
    "plt.show()"
   ]
  },
  {
   "cell_type": "code",
   "execution_count": null,
   "id": "c737ea92",
   "metadata": {},
   "outputs": [],
   "source": [
    "# Compute distance intra each version and compare distributions between versions\n",
    "\n",
    "# Compute distance between series in the original dataset\n",
    "orig_dist = []\n",
    "for i in range(orig.shape[1]):\n",
    "    orig_dist.append(ComputeSimilarities(dataset=orig, transf_series=orig[:,i]) \\\n",
    "                    .compute_similarity_single_series_and_dataset())"
   ]
  },
  {
   "cell_type": "code",
   "execution_count": null,
   "id": "a1d33a08",
   "metadata": {},
   "outputs": [],
   "source": [
    "dist_base_transf = []\n",
    "for t in range(len(transformations)):\n",
    "    transf_dist = []\n",
    "    print(f'transf {t}')\n",
    "    for v in range(versions):\n",
    "        sample_dist = []\n",
    "        print(f'version {v}')\n",
    "        for s in range(transf[t][v].shape[0]):\n",
    "            series_dist = []\n",
    "            print(f'series {s}')\n",
    "            for i in range(transf[t][v][s].shape[1]):\n",
    "                series_dist.append(ComputeSimilarities(dataset=orig, \n",
    "                                                       transf_series=transf[t][v][s][:,i]) \\\n",
    "                                    .compute_similarity_single_series_and_dataset())\n",
    "            sample_dist.append(series_dist)\n",
    "        transf_dist.append(sample_dist)\n",
    "    dist_base_transf.append(transf_dist)"
   ]
  },
  {
   "cell_type": "code",
   "execution_count": null,
   "id": "a0686d28",
   "metadata": {},
   "outputs": [],
   "source": []
  }
 ],
 "metadata": {
  "kernelspec": {
   "display_name": "Python 3 (ipykernel)",
   "language": "python",
   "name": "python3"
  },
  "language_info": {
   "codemirror_mode": {
    "name": "ipython",
    "version": 3
   },
   "file_extension": ".py",
   "mimetype": "text/x-python",
   "name": "python",
   "nbconvert_exporter": "python",
   "pygments_lexer": "ipython3",
   "version": "3.9.7"
  }
 },
 "nbformat": 4,
 "nbformat_minor": 5
}
