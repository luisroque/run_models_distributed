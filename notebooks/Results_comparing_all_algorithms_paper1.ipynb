{
 "cells": [
  {
   "cell_type": "code",
   "execution_count": 1,
   "id": "71acef20",
   "metadata": {},
   "outputs": [
    {
     "name": "stderr",
     "output_type": "stream",
     "text": [
      "<ipython-input-1-f22033fd6734>:3: DeprecationWarning: Using or importing the ABCs from 'collections' instead of from 'collections.abc' is deprecated since Python 3.3, and in 3.10 it will stop working\n",
      "  from collections import Iterable\n"
     ]
    }
   ],
   "source": [
    "import pickle\n",
    "import os\n",
    "from collections import Iterable\n",
    "import pandas as pd\n",
    "import matplotlib.pyplot as plt\n",
    "import numpy as np\n",
    "import seaborn as sns\n",
    "\n",
    "sns.set()\n",
    "plt.rcParams.update({'font.size': 22})"
   ]
  },
  {
   "cell_type": "code",
   "execution_count": 2,
   "id": "36defbc0",
   "metadata": {},
   "outputs": [],
   "source": [
    "def flatten(lis):\n",
    "     for item in lis:\n",
    "        if isinstance(item, Iterable) and not isinstance(item, str):\n",
    "            for x in flatten(item):\n",
    "                yield x\n",
    "        else:        \n",
    "            yield item\n",
    "            \n",
    "def find(lst, s):\n",
    "    return [i for i, x in enumerate(lst) if x==s]\n",
    "\n",
    "def keys_exists(element, *keys):\n",
    "    '''\n",
    "    Check if *keys (nested) exists in `element` (dict).\n",
    "    '''\n",
    "    if not isinstance(element, dict):\n",
    "        raise AttributeError('keys_exists() expects dict as first argument.')\n",
    "    if len(keys) == 0:\n",
    "        raise AttributeError('keys_exists() expects at least two arguments, one given.')\n",
    "\n",
    "    _element = element\n",
    "    for key in keys:\n",
    "        try:\n",
    "            _element = _element[key]\n",
    "        except KeyError:\n",
    "            return False\n",
    "    return True"
   ]
  },
  {
   "cell_type": "code",
   "execution_count": 8,
   "id": "0ca5edc0",
   "metadata": {},
   "outputs": [],
   "source": [
    "def compute_aggreated_results(algorithm, dataset, path='../results', err_metric='mase'):\n",
    "    results_dict={}\n",
    "    for file in [path for path in os.listdir(path) if algorithm in path and dataset in path]:\n",
    "        with open(f'{path}/{file}', 'rb') as handle:\n",
    "            flatten_file_name = list(flatten([i.split('.') for i in file.split('_')]))\n",
    "            idx_dataset_name = find(flatten_file_name, dataset)[0]\n",
    "            sample = flatten_file_name[idx_dataset_name+1:-1][-1]\n",
    "            version = flatten_file_name[idx_dataset_name+1:-1][-2]\n",
    "            transformation = '_'.join(flatten_file_name[idx_dataset_name+1:-1][:-2])\n",
    "            if not keys_exists(results_dict, transformation):\n",
    "                results_dict[transformation] = {}\n",
    "            if not keys_exists(results_dict, transformation, version): \n",
    "                results_dict[transformation][version] = {}\n",
    "            if not keys_exists(results_dict, transformation, version, sample):    \n",
    "                results_dict[transformation][version][sample] = {}\n",
    "\n",
    "            results_dict[transformation][version][sample] = pickle.load(handle)\n",
    "        handle.close()\n",
    "\n",
    "    # shape=(transformation, version, sample, metric, dim)\n",
    "    # metric = mase, rmse\n",
    "    # dim = bottom, total, state, gender, legal, all\n",
    "\n",
    "    df = pd.DataFrame.from_dict({(i,j, k, l): results_dict[i][j][k][l] \n",
    "                               for i in results_dict.keys() \n",
    "                               for j in results_dict[i].keys()\n",
    "                               for k in results_dict[i][j].keys()\n",
    "                               for l in results_dict[i][j][k].keys()},\n",
    "                           orient='index')\n",
    "\n",
    "    df_err = df[np.in1d(df.index.get_level_values(3), [err_metric])]\n",
    "    df_clean = df_err.mean(level=(0,1,2)).stack(level=0).to_frame()\n",
    "    df_clean = df_clean.reset_index()\n",
    "    df_clean.columns = ['transformation', 'version', 'sample', 'group', err_metric]\n",
    "    \n",
    "    return df_clean"
   ]
  },
  {
   "cell_type": "code",
   "execution_count": 34,
   "id": "bb5c6bed",
   "metadata": {},
   "outputs": [
    {
     "data": {
      "image/png": "[encoded data removed]",
      "text/plain": [
       "<Figure size 1440x720 with 1 Axes>"
      ]
     },
     "metadata": {},
     "output_type": "display_data"
    }
   ],
   "source": [
    "datasets = ['tourism']\n",
    "for d in datasets:\n",
    "    df_gpf = compute_aggreated_results(algorithm='gpf', dataset=d)\n",
    "    df_mint = compute_aggreated_results(algorithm='mint', dataset=d)\n",
    "    df_deepar = compute_aggreated_results(algorithm='deepar', dataset=d)\n",
    "    df_gpf['algorithm']='gpf'\n",
    "    df_mint['algorithm']='mint'\n",
    "    df_deepar['algorithm']='deepar'\n",
    "    df = pd.concat([df_gpf, df_mint, df_deepar])\n",
    "    df_orig = df[df['version']=='orig'].reset_index().drop(['index'], axis=1)\n",
    "    df_orig = df_orig.groupby(['group', 'algorithm']).min()['mase'].reset_index()\n",
    "    \n",
    "    _, ax = plt.subplots(len(datasets), 1, figsize=(20, 10*len(datasets)))\n",
    "\n",
    "    fg = sns.barplot(x='group', \n",
    "                      y='mase',\n",
    "                      hue='algorithm',\n",
    "                      data=df_orig, \n",
    "                      ax=ax)    \n",
    "    plt.legend()\n",
    "plt.show()"
   ]
  },
  {
   "cell_type": "code",
   "execution_count": null,
   "id": "9b1e0563",
   "metadata": {},
   "outputs": [],
   "source": []
  }
 ],
 "metadata": {
  "kernelspec": {
   "display_name": "Python 3 (ipykernel)",
   "language": "python",
   "name": "python3"
  },
  "language_info": {
   "codemirror_mode": {
    "name": "ipython",
    "version": 3
   },
   "file_extension": ".py",
   "mimetype": "text/x-python",
   "name": "python",
   "nbconvert_exporter": "python",
   "pygments_lexer": "ipython3",
   "version": "3.9.7"
  }
 },
 "nbformat": 4,
 "nbformat_minor": 5
}
