{
 "cells": [
  {
   "cell_type": "code",
   "execution_count": 48,
   "id": "a68306bd-14ee-47c5-b21a-06dc0c1ff44a",
   "metadata": {},
   "outputs": [],
   "source": [
    "import pickle\n",
    "import os\n",
    "from collections import Iterable\n",
    "import pandas as pd\n",
    "import matplotlib.pyplot as plt\n",
    "import numpy as np\n",
    "import seaborn as sns\n",
    "sns.set()\n",
    "import copy\n",
    "\n",
    "sns.set()\n",
    "plt.rcParams.update({'font.size': 22})"
   ]
  },
  {
   "cell_type": "code",
   "execution_count": 2,
   "id": "e034a0bd-c09e-4c82-a53b-7a3a42f54da6",
   "metadata": {},
   "outputs": [],
   "source": [
    "def flatten(lis):\n",
    "     for item in lis:\n",
    "        if isinstance(item, Iterable) and not isinstance(item, str):\n",
    "            for x in flatten(item):\n",
    "                yield x\n",
    "        else:        \n",
    "            yield item\n",
    "            \n",
    "def find(lst, s):\n",
    "    return [i for i, x in enumerate(lst) if x==s]\n",
    "\n",
    "def keys_exists(element, *keys):\n",
    "    '''\n",
    "    Check if *keys (nested) exists in `element` (dict).\n",
    "    '''\n",
    "    if not isinstance(element, dict):\n",
    "        raise AttributeError('keys_exists() expects dict as first argument.')\n",
    "    if len(keys) == 0:\n",
    "        raise AttributeError('keys_exists() expects at least two arguments, one given.')\n",
    "\n",
    "    _element = element\n",
    "    for key in keys:\n",
    "        try:\n",
    "            _element = _element[key]\n",
    "        except KeyError:\n",
    "            return False\n",
    "    return True"
   ]
  },
  {
   "cell_type": "code",
   "execution_count": 84,
   "id": "5cb17c0c-c3fe-440b-b7ce-ad247c389093",
   "metadata": {},
   "outputs": [],
   "source": [
    "def compute_aggreated_results_dict(algorithm, dataset, path='../results', err_metric='mase'):\n",
    "    results_dict={}\n",
    "    for file in [path for path in os.listdir(path) if algorithm in path and dataset in path and 'orig' in path]:\n",
    "        with open(f'{path}/{file}', 'rb') as handle:\n",
    "            results_dict = pickle.load(handle)\n",
    "        handle.close()\n",
    "    return results_dict['wall_time']"
   ]
  },
  {
   "cell_type": "code",
   "execution_count": 85,
   "id": "04c2c7e2-821b-4198-b3d0-30845cc3dd32",
   "metadata": {},
   "outputs": [],
   "source": [
    "datasets = ['prison']\n",
    "for d in datasets:\n",
    "    #dict_gpf = compute_aggreated_results_dict(algorithm='gpf', dataset=d)\n",
    "    dict_mint = compute_aggreated_results_dict(algorithm='mint', dataset=d)\n",
    "    dict_deepar = compute_aggreated_results_dict(algorithm='deepar', dataset=d)"
   ]
  },
  {
   "cell_type": "code",
   "execution_count": 86,
   "id": "a3dfef9f-86d9-444e-a8c7-2d39e5f51ca1",
   "metadata": {},
   "outputs": [],
   "source": [
    "df_mint = pd.DataFrame(dict_mint, index=['mint'])\n",
    "df_deepar = pd.DataFrame(dict_deepar, index=['deepar'])\n",
    "df = pd.concat([df_mint, df_deepar])"
   ]
  },
  {
   "cell_type": "code",
   "execution_count": 87,
   "id": "6148a94b-9236-4820-b6fe-8261399667b4",
   "metadata": {},
   "outputs": [],
   "source": [
    "df = df.drop(['wall_time_preprocess', 'wall_time_build_model', 'wall_time_predict'], axis=1)"
   ]
  },
  {
   "cell_type": "code",
   "execution_count": 89,
   "id": "a15bc8fb-aaf7-4abd-bb79-d732e51efc4f",
   "metadata": {},
   "outputs": [
    {
     "data": {
      "image/png": "[encoded data removed]",
      "text/plain": [
       "<Figure size 432x288 with 1 Axes>"
      ]
     },
     "metadata": {},
     "output_type": "display_data"
    }
   ],
   "source": [
    "df.plot(kind='bar');"
   ]
  },
  {
   "cell_type": "code",
   "execution_count": null,
   "id": "38d76cbc-0345-48d8-8754-1dc08c1a0f1b",
   "metadata": {},
   "outputs": [],
   "source": []
  }
 ],
 "metadata": {
  "kernelspec": {
   "display_name": "Python 3 (ipykernel)",
   "language": "python",
   "name": "python3"
  },
  "language_info": {
   "codemirror_mode": {
    "name": "ipython",
    "version": 3
   },
   "file_extension": ".py",
   "mimetype": "text/x-python",
   "name": "python",
   "nbconvert_exporter": "python",
   "pygments_lexer": "ipython3",
   "version": "3.9.7"
  }
 },
 "nbformat": 4,
 "nbformat_minor": 5
}
